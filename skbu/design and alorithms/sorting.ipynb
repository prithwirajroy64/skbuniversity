{
 "cells": [
  {
   "cell_type": "markdown",
   "metadata": {},
   "source": [
    "# 1. Bubble Sort"
   ]
  },
  {
   "cell_type": "code",
   "execution_count": 4,
   "metadata": {},
   "outputs": [
    {
     "name": "stdout",
     "output_type": "stream",
     "text": [
      "Original array: [19, 23, 49, 90, 11, 2, 64, 77]\n",
      "Sorted array: [2, 11, 19, 23, 49, 64, 77, 90]\n"
     ]
    }
   ],
   "source": [
    "def bubble_sort(arr):\n",
    "    n = len(arr)\n",
    "    for i in range(n - 1):\n",
    "        for j in range(n - i - 1):\n",
    "            if arr[j] > arr[j + 1]:\n",
    "                # Swap numbers\n",
    "                arr[j], arr[j + 1] = arr[j + 1], arr[j]\n",
    "\n",
    "arr = [19, 23, 49, 90, 11, 2, 64, 77]\n",
    "\n",
    "print(\"Original array:\", end=\" \")\n",
    "print(arr)\n",
    "\n",
    "bubble_sort(arr)\n",
    "\n",
    "print(\"Sorted array:\", end=\" \")\n",
    "print(arr)\n"
   ]
  },
  {
   "cell_type": "markdown",
   "metadata": {},
   "source": [
    "# 2. Heap sort"
   ]
  },
  {
   "cell_type": "code",
   "execution_count": 1,
   "metadata": {},
   "outputs": [
    {
     "name": "stdout",
     "output_type": "stream",
     "text": [
      "[12, 11, 13, 5, 6, 7]\n",
      "Sorted array is\n",
      "[5, 6, 7, 11, 12, 13]\n"
     ]
    }
   ],
   "source": [
    "def heapify(arr, n, i):\n",
    "\tlargest = i # Initialize largest as root\n",
    "\tl = 2 * i + 1 # left = 2*i + 1\n",
    "\tr = 2 * i + 2 # right = 2*i + 2\n",
    "\tif l < n and arr[i] < arr[l]:\n",
    "\t\tlargest = l\n",
    "\tif r < n and arr[largest] < arr[r]:\n",
    "\t\tlargest = r\n",
    "\tif largest != i:\n",
    "\t\t(arr[i], arr[largest]) = (arr[largest], arr[i]) # swap\n",
    "\t\theapify(arr, n, largest)\n",
    "\n",
    "def heapSort(arr):\n",
    "\tn = len(arr)\n",
    "\tfor i in range(n // 2, -1, -1):\n",
    "\t\theapify(arr, n, i)\n",
    "\tfor i in range(n - 1, 0, -1):\n",
    "\t\t(arr[i], arr[0]) = (arr[0], arr[i]) \n",
    "\t\theapify(arr, i, 0)\n",
    "\n",
    "arr = [12, 11, 13, 5, 6, 7, ]\n",
    "print(arr)\n",
    "heapSort(arr)\n",
    "n = len(arr)\n",
    "print('Sorted array is')\n",
    "print(arr)"
   ]
  },
  {
   "cell_type": "markdown",
   "metadata": {},
   "source": [
    "# 3. Merge Sort"
   ]
  },
  {
   "cell_type": "code",
   "execution_count": 2,
   "metadata": {},
   "outputs": [
    {
     "name": "stdout",
     "output_type": "stream",
     "text": [
      "Sorted array: [-13, -10, 3, 6, 7, 15, 23.5, 55]\n"
     ]
    }
   ],
   "source": [
    "def mergeSort(arr):\n",
    "    if len(arr) <= 1:\n",
    "        return arr\n",
    "\n",
    "    mid = len(arr) // 2\n",
    "    leftHalf = arr[:mid]\n",
    "    rightHalf = arr[mid:]\n",
    "\n",
    "    sortedLeft = mergeSort(leftHalf)\n",
    "    sortedRight = mergeSort(rightHalf)\n",
    "\n",
    "    return merge(sortedLeft, sortedRight)\n",
    "\n",
    "def merge(left, right):\n",
    "    result = []\n",
    "    i = j = 0\n",
    "\n",
    "    while i < len(left) and j < len(right):\n",
    "        if left[i] < right[j]:\n",
    "            result.append(left[i])\n",
    "            i += 1\n",
    "        else:\n",
    "            result.append(right[j])\n",
    "            j += 1\n",
    "\n",
    "    result.extend(left[i:])\n",
    "    result.extend(right[j:])\n",
    "\n",
    "    return result\n",
    "\n",
    "unsortedArr = [3, 7, 6, -10, 15, 23.5, 55, -13]\n",
    "sortedArr = mergeSort(unsortedArr)\n",
    "print(\"Sorted array:\", sortedArr)"
   ]
  },
  {
   "cell_type": "markdown",
   "metadata": {},
   "source": [
    "# 4. Quicksort"
   ]
  },
  {
   "cell_type": "code",
   "execution_count": 3,
   "metadata": {},
   "outputs": [
    {
     "name": "stdout",
     "output_type": "stream",
     "text": [
      "Sorted array: [5, 11, 12, 22, 25, 34, 64, 90]\n"
     ]
    }
   ],
   "source": [
    "def partition(array, low, high):\n",
    "    pivot = array[high]\n",
    "    i = low - 1\n",
    "\n",
    "    for j in range(low, high):\n",
    "        if array[j] <= pivot:\n",
    "            i += 1\n",
    "            array[i], array[j] = array[j], array[i]\n",
    "\n",
    "    array[i+1], array[high] = array[high], array[i+1]\n",
    "    return i+1\n",
    "\n",
    "def quicksort(array, low=0, high=None):\n",
    "    if high is None:\n",
    "        high = len(array) - 1\n",
    "\n",
    "    if low < high:\n",
    "        pivot_index = partition(array, low, high)\n",
    "        quicksort(array, low, pivot_index-1)\n",
    "        quicksort(array, pivot_index+1, high)\n",
    "\n",
    "my_array = [64, 34, 25, 12, 22, 11, 90, 5]\n",
    "quicksort(my_array)\n",
    "print(\"Sorted array:\", my_array)"
   ]
  },
  {
   "cell_type": "markdown",
   "metadata": {},
   "source": [
    "# 5. Insertion sort"
   ]
  },
  {
   "cell_type": "code",
   "execution_count": 6,
   "metadata": {},
   "outputs": [
    {
     "name": "stdout",
     "output_type": "stream",
     "text": [
      "Original array: [12, 11, 13, 5, 6]\n",
      "Sorted array: [5, 6, 11, 12, 13]\n"
     ]
    }
   ],
   "source": [
    "def insertion_sort(arr):\n",
    "    for i in range(1, len(arr)):\n",
    "        key = arr[i]\n",
    "        j = i - 1\n",
    "\n",
    "        while j >= 0 and arr[j] > key:\n",
    "            arr[j + 1] = arr[j]\n",
    "            j -= 1\n",
    "        \n",
    "        arr[j + 1] = key\n",
    "\n",
    "arr = [12, 11, 13, 5, 6]\n",
    "print(\"Original array:\", end=\" \")\n",
    "print(arr)\n",
    "\n",
    "insertion_sort(arr)\n",
    "\n",
    "print(\"Sorted array:\", end=\" \")\n",
    "print(arr)"
   ]
  },
  {
   "cell_type": "markdown",
   "metadata": {},
   "source": [
    "# 6. Selection sort"
   ]
  },
  {
   "cell_type": "code",
   "execution_count": 7,
   "metadata": {},
   "outputs": [
    {
     "name": "stdout",
     "output_type": "stream",
     "text": [
      "Original array: [2, 3, 1, 77, 34, 23, 89, 429, 11, 71]\n",
      "Sorted array: [1, 2, 3, 11, 23, 34, 71, 77, 89, 429]\n"
     ]
    }
   ],
   "source": [
    "def selection_sort(arr):\n",
    "    n = len(arr)\n",
    "    for i in range(n - 1):\n",
    "        min_index = i\n",
    "\n",
    "        for j in range(i + 1, n):\n",
    "            if arr[j] < arr[min_index]:\n",
    "                min_index = j\n",
    "\n",
    "        if i != min_index:\n",
    "            arr[i], arr[min_index] = arr[min_index], arr[i]  # Swap elements\n",
    "\n",
    "arr = [2, 3, 1, 77, 34, 23, 89, 429, 11, 71]\n",
    "\n",
    "print(\"Original array:\", end=\" \")\n",
    "print(arr)\n",
    "\n",
    "selection_sort(arr)\n",
    "\n",
    "print(\"Sorted array:\", end=\" \")\n",
    "print(arr)\n"
   ]
  },
  {
   "cell_type": "markdown",
   "metadata": {},
   "source": [
    "# 7. Randomize Quick Sort"
   ]
  },
  {
   "cell_type": "code",
   "execution_count": null,
   "metadata": {},
   "outputs": [
    {
     "name": "stdout",
     "output_type": "stream",
     "text": [
      "Original Array: [34, 20, 80, 40, 50]\n",
      "Sorted Array: [20, 34, 40, 50, 80]\n"
     ]
    }
   ],
   "source": [
    "import random\n",
    "\n",
    "def partition(arr, l, r):\n",
    "    pivot = arr[r]\n",
    "    i = l - 1\n",
    "\n",
    "    for j in range(l, r):\n",
    "        if arr[j] < pivot:\n",
    "            i += 1\n",
    "            arr[i], arr[j] = arr[j], arr[i]\n",
    "\n",
    "    arr[i + 1], arr[r] = arr[r], arr[i + 1]\n",
    "    return i + 1\n",
    "\n",
    "def random_partition(arr, l, r):\n",
    "    i = random.randint(l, r)\n",
    "    arr[i], arr[r] = arr[r], arr[i]\n",
    "    return partition(arr, l, r)\n",
    "\n",
    "def quick_sort(arr, l, r):\n",
    "    if l < r:\n",
    "        pivot_index = random_partition(arr, l, r)\n",
    "        quick_sort(arr, l, pivot_index - 1)\n",
    "        quick_sort(arr, pivot_index + 1, r)\n",
    "\n",
    "arr = [34, 20, 80, 40, 50]\n",
    "\n",
    "print(\"Original Array:\",end=\" \")\n",
    "print(arr)\n",
    "\n",
    "quick_sort(arr, 0, len(arr) - 1)\n",
    "\n",
    "print(\"Sorted Array:\",end=\" \")\n",
    "print(arr)\n"
   ]
  },
  {
   "cell_type": "markdown",
   "metadata": {},
   "source": [
    "---"
   ]
  },
  {
   "cell_type": "markdown",
   "metadata": {},
   "source": [
    "# 1. Binary search"
   ]
  },
  {
   "cell_type": "code",
   "execution_count": 12,
   "metadata": {},
   "outputs": [
    {
     "name": "stdout",
     "output_type": "stream",
     "text": [
      "Array: [1, 2, 4, 6, 7, 8, 11, 13, 16, 23]\n",
      "Element found at index: 6\n"
     ]
    }
   ],
   "source": [
    "def binary_search(arr, target):\n",
    "    l, r = 0, len(arr) - 1\n",
    "\n",
    "    while l <= r:\n",
    "        mid = l + (r - l) // 2\n",
    "\n",
    "        if arr[mid] == target:\n",
    "            return mid\n",
    "        elif arr[mid] < target:\n",
    "            l = mid + 1\n",
    "        else:\n",
    "            r = mid - 1 \n",
    "\n",
    "    return -1 \n",
    "\n",
    "arr = [1, 2, 4, 6, 7, 8, 11, 13, 16, 23]\n",
    "target = 11\n",
    "\n",
    "print(\"Array: \", end=\"\")\n",
    "print(arr)\n",
    "\n",
    "result = binary_search(arr, target)\n",
    "\n",
    "if result != -1:\n",
    "    print(f\"Element found at index: {result}\")\n",
    "else:\n",
    "    print(\"Element not found.\")\n"
   ]
  },
  {
   "cell_type": "markdown",
   "metadata": {},
   "source": [
    "# 2. Linear Search"
   ]
  },
  {
   "cell_type": "code",
   "execution_count": 14,
   "metadata": {},
   "outputs": [
    {
     "name": "stdout",
     "output_type": "stream",
     "text": [
      "Array: [2, 4, 5, 1, 7, 32, 21]\n",
      "Element found at index: 4\n"
     ]
    }
   ],
   "source": [
    "def linear_search(arr, target):\n",
    "    for i in range(len(arr)):\n",
    "        if arr[i] == target:\n",
    "            return i\n",
    "    return -1\n",
    "  \n",
    "arr = [2, 4, 5, 1, 7, 32, 21]\n",
    "target = 7\n",
    "\n",
    "print(\"Array: \", end=\"\")\n",
    "print(arr)\n",
    "\n",
    "result = linear_search(arr, target)\n",
    "\n",
    "if result != -1:\n",
    "    print(f\"Element found at index: {result}\")\n",
    "else:\n",
    "    print(\"Element not found.\")\n"
   ]
  }
 ],
 "metadata": {
  "kernelspec": {
   "display_name": "Python 3",
   "language": "python",
   "name": "python3"
  },
  "language_info": {
   "codemirror_mode": {
    "name": "ipython",
    "version": 3
   },
   "file_extension": ".py",
   "mimetype": "text/x-python",
   "name": "python",
   "nbconvert_exporter": "python",
   "pygments_lexer": "ipython3",
   "version": "3.11.9"
  }
 },
 "nbformat": 4,
 "nbformat_minor": 2
}

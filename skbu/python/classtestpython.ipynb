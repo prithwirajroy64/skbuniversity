{
 "cells": [
  {
   "cell_type": "markdown",
   "metadata": {},
   "source": [
    "# PYTHON CLASS TEST Q&A"
   ]
  },
  {
   "cell_type": "markdown",
   "metadata": {},
   "source": [
    "WAPP to remove duplicates while preserving the original order.<br>my_list = [1,2,2,2,3,4,4,5]<br>excepted output: [1,2,3,4,5]"
   ]
  },
  {
   "cell_type": "code",
   "execution_count": 1,
   "metadata": {},
   "outputs": [
    {
     "name": "stdout",
     "output_type": "stream",
     "text": [
      "[1, 2, 3, 4, 5]\n"
     ]
    }
   ],
   "source": [
    "my_list=[1,2,2,2,3,4,4,5]\n",
    "update_list=[]\n",
    "for i in my_list:\n",
    "  if i in update_list:\n",
    "    continue\n",
    "  else:\n",
    "    update_list.append(i)\n",
    "print(update_list)"
   ]
  },
  {
   "cell_type": "markdown",
   "metadata": {},
   "source": [
    "print this pattern"
   ]
  },
  {
   "cell_type": "code",
   "execution_count": 2,
   "metadata": {},
   "outputs": [
    {
     "name": "stdout",
     "output_type": "stream",
     "text": [
      "1 \n",
      "-2 1 \n",
      "3 -2 1 \n",
      "-4 3 -2 1 \n",
      "5 -4 3 -2 1 \n"
     ]
    }
   ],
   "source": [
    "for row in range(1,6):\n",
    "  n=row\n",
    "  for col in range(1,row+1):\n",
    "    if n%2==0:\n",
    "      print(-n,end=\" \")\n",
    "    else:\n",
    "      print(n,end=\" \")\n",
    "    n-=1\n",
    "  print()"
   ]
  },
  {
   "cell_type": "markdown",
   "metadata": {},
   "source": [
    "---"
   ]
  },
  {
   "cell_type": "markdown",
   "metadata": {},
   "source": [
    "---"
   ]
  },
  {
   "cell_type": "markdown",
   "metadata": {},
   "source": [
    "print this pattern using Recursion"
   ]
  },
  {
   "cell_type": "code",
   "execution_count": 3,
   "metadata": {},
   "outputs": [
    {
     "name": "stdout",
     "output_type": "stream",
     "text": [
      "* * * * * \n",
      "* * * * \n",
      "* * * \n",
      "* * \n",
      "* \n"
     ]
    }
   ],
   "source": [
    "def star(n):\n",
    "  if n==0:\n",
    "    return\n",
    "  else:\n",
    "    print('* ' * n )\n",
    "    star(n-1)\n",
    "star(5)"
   ]
  },
  {
   "cell_type": "markdown",
   "metadata": {},
   "source": [
    "what is the output of the program?"
   ]
  },
  {
   "cell_type": "code",
   "execution_count": 4,
   "metadata": {},
   "outputs": [
    {
     "name": "stdout",
     "output_type": "stream",
     "text": [
      "A\n",
      "D\n",
      "E\n"
     ]
    }
   ],
   "source": [
    "items = ['A','B','C','D','E']\n",
    "for item in items:\n",
    "  if item == 'B':\n",
    "    items.remove('B')\n",
    "  else:\n",
    "    print(item)"
   ]
  },
  {
   "cell_type": "markdown",
   "metadata": {},
   "source": [
    "---"
   ]
  },
  {
   "cell_type": "markdown",
   "metadata": {},
   "source": [
    "---"
   ]
  },
  {
   "cell_type": "markdown",
   "metadata": {},
   "source": [
    "WAPP from a list of numbers, move zero to the end of the list.<br>input: list=[1,4,7,0,2,3,0,6]<br>output: list=[1,4,7,2,3,6,0,0]"
   ]
  },
  {
   "cell_type": "code",
   "execution_count": 10,
   "metadata": {},
   "outputs": [
    {
     "name": "stdout",
     "output_type": "stream",
     "text": [
      "[1, 4, 7, 2, 3, 6, 0, 0]\n"
     ]
    }
   ],
   "source": [
    "list=[1,4,7,0,2,3,0,6]\n",
    "for num in list:\n",
    "  if num == 0:\n",
    "    list.remove(0)\n",
    "    list.append(0)\n",
    "    \n",
    "print(list)"
   ]
  },
  {
   "cell_type": "markdown",
   "metadata": {},
   "source": [
    "Write a recursive function to generate all permutations of a string."
   ]
  },
  {
   "cell_type": "code",
   "execution_count": 11,
   "metadata": {},
   "outputs": [
    {
     "name": "stdout",
     "output_type": "stream",
     "text": [
      "ABC\n",
      "ACB\n",
      "BAC\n",
      "BCA\n",
      "CAB\n",
      "CBA\n"
     ]
    }
   ],
   "source": [
    "def generate_permutations(s, current=\"\"):\n",
    "    if len(s) == 0:\n",
    "        print(current)\n",
    "        return\n",
    "\n",
    "    for i in range(len(s)):\n",
    "        remaining = s[:i] + s[i+1:]\n",
    "        generate_permutations(remaining, current + s[i])\n",
    "\n",
    "\n",
    "s = \"ABC\"\n",
    "generate_permutations(s)\n"
   ]
  },
  {
   "cell_type": "markdown",
   "metadata": {},
   "source": [
    "---"
   ]
  },
  {
   "cell_type": "markdown",
   "metadata": {},
   "source": [
    "---"
   ]
  },
  {
   "cell_type": "markdown",
   "metadata": {},
   "source": [
    "Write a program to generate the fibonacci sequence up to a given number using recursion."
   ]
  },
  {
   "cell_type": "code",
   "execution_count": 13,
   "metadata": {},
   "outputs": [
    {
     "name": "stdout",
     "output_type": "stream",
     "text": [
      "0, 1, 1, 2, 3, 5, 8, 13, 21, "
     ]
    }
   ],
   "source": [
    "def fibonacci(first,second,length,count):\n",
    "  if count<length:\n",
    "    if count<2:\n",
    "      print(first,end=\", \")\n",
    "      count+=1\n",
    "      print(second,end=\", \")\n",
    "      count+=1\n",
    "    c=first+second\n",
    "    print(c,end=\", \")\n",
    "    first,second=second,c\n",
    "    fibonacci(first,second,length-1,count)\n",
    "  else:\n",
    "    return\n",
    "    \n",
    "\n",
    "length = int(input(\"enter a number for end of range:\"))\n",
    "fibonacci(0,1,length,0)"
   ]
  },
  {
   "cell_type": "markdown",
   "metadata": {},
   "source": [
    "WAPP to rotate the elements of a list n positions to right. for example:<br>input: list=[1,2,3,4,5],n=2<br>output: list=[4,5,1,2,3]"
   ]
  },
  {
   "cell_type": "code",
   "execution_count": 22,
   "metadata": {},
   "outputs": [
    {
     "name": "stdout",
     "output_type": "stream",
     "text": [
      "[4, 5, 1, 2, 3]\n"
     ]
    }
   ],
   "source": [
    "list=[1,2,3,4,5]\n",
    "n=2\n",
    "list=list[-n:]+list[:-n]\n",
    "print(list)"
   ]
  }
 ],
 "metadata": {
  "kernelspec": {
   "display_name": "Python 3",
   "language": "python",
   "name": "python3"
  },
  "language_info": {
   "codemirror_mode": {
    "name": "ipython",
    "version": 3
   },
   "file_extension": ".py",
   "mimetype": "text/x-python",
   "name": "python",
   "nbconvert_exporter": "python",
   "pygments_lexer": "ipython3",
   "version": "3.11.9"
  }
 },
 "nbformat": 4,
 "nbformat_minor": 2
}

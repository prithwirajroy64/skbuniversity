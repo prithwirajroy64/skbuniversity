{
 "cells": [
  {
   "cell_type": "markdown",
   "metadata": {},
   "source": [
    "# Function type:"
   ]
  },
  {
   "cell_type": "markdown",
   "metadata": {},
   "source": [
    "- 1) Build-in Function or Predefine Function\n",
    "- 2) User define Function"
   ]
  },
  {
   "cell_type": "markdown",
   "metadata": {},
   "source": [
    "# Parameter"
   ]
  },
  {
   "cell_type": "markdown",
   "metadata": {},
   "source": [
    "Parameters are input to the function, if a function contains parameters then at the time of calling compulsary we should provide values. Otherwise we get Error."
   ]
  },
  {
   "cell_type": "code",
   "execution_count": 1,
   "metadata": {},
   "outputs": [
    {
     "name": "stdout",
     "output_type": "stream",
     "text": [
      "Hello prithwiraj Good Night.\n"
     ]
    }
   ],
   "source": [
    "def wish(name):\n",
    "  print(\"Hello\",name,\"Good Night.\")\n",
    "wish(\"prithwiraj\")"
   ]
  },
  {
   "cell_type": "markdown",
   "metadata": {},
   "source": [
    "- but this function return None."
   ]
  },
  {
   "cell_type": "code",
   "execution_count": 3,
   "metadata": {},
   "outputs": [
    {
     "name": "stdout",
     "output_type": "stream",
     "text": [
      "Hello Prithwiraj Good Night.\n",
      "None\n"
     ]
    }
   ],
   "source": [
    "c=wish(\"Prithwiraj\")\n",
    "print(c)"
   ]
  },
  {
   "cell_type": "markdown",
   "metadata": {},
   "source": [
    "If we are not write return statement then default returns None."
   ]
  },
  {
   "cell_type": "markdown",
   "metadata": {},
   "source": [
    "---"
   ]
  },
  {
   "cell_type": "markdown",
   "metadata": {},
   "source": [
    "- **write a function that takes a value and checks if it is even or odd.**"
   ]
  },
  {
   "cell_type": "code",
   "execution_count": 5,
   "metadata": {},
   "outputs": [
    {
     "name": "stdout",
     "output_type": "stream",
     "text": [
      "11 is odd.\n"
     ]
    }
   ],
   "source": [
    "def even_odd(num):\n",
    "  if num % 2 == 0:\n",
    "    print(num,\"is even.\")\n",
    "  else:\n",
    "    print(num,\"is odd.\")\n",
    "even_odd(11)"
   ]
  },
  {
   "cell_type": "markdown",
   "metadata": {},
   "source": [
    "---"
   ]
  },
  {
   "cell_type": "markdown",
   "metadata": {},
   "source": [
    "# Return multiple values from a function"
   ]
  },
  {
   "cell_type": "code",
   "execution_count": 8,
   "metadata": {},
   "outputs": [
    {
     "name": "stdout",
     "output_type": "stream",
     "text": [
      "(10, 20)\n",
      "10\n",
      "20\n"
     ]
    }
   ],
   "source": [
    "def sum_sub(a,b):\n",
    "  sum=a+b\n",
    "  sub=a-b\n",
    "  return a,b\n",
    "c=sum_sub(10,20)\n",
    "print(c)#tuple form\n",
    "p,q=sum_sub(10,20)\n",
    "print(p)\n",
    "print(q)"
   ]
  },
  {
   "cell_type": "markdown",
   "metadata": {},
   "source": [
    "In other language (like c, c++, and java) function can return atmost one value but in python, we can return any numbers of values."
   ]
  },
  {
   "cell_type": "markdown",
   "metadata": {},
   "source": [
    "# Types of argument"
   ]
  },
  {
   "cell_type": "markdown",
   "metadata": {},
   "source": [
    "There are four types:"
   ]
  },
  {
   "cell_type": "markdown",
   "metadata": {},
   "source": [
    "1) Possitional argument\n",
    "2) Keyword argument\n",
    "3) Default argument\n",
    "4) Variable length argument"
   ]
  },
  {
   "cell_type": "markdown",
   "metadata": {},
   "source": [
    "### 1. Possitional argument"
   ]
  },
  {
   "cell_type": "markdown",
   "metadata": {},
   "source": [
    "There are the number of argument pass to a function in possitional order."
   ]
  },
  {
   "cell_type": "markdown",
   "metadata": {},
   "source": [
    "- 1) The number of argument and possition of argument must be same, if we can change the order may be changed.\n",
    "- 2) If we change the number of argument then we will get Error."
   ]
  },
  {
   "cell_type": "markdown",
   "metadata": {},
   "source": [
    "### 2. Keyword argument"
   ]
  },
  {
   "cell_type": "markdown",
   "metadata": {},
   "source": [
    "We can pass argument value by keyword. That is parameter name."
   ]
  },
  {
   "cell_type": "code",
   "execution_count": 9,
   "metadata": {},
   "outputs": [
    {
     "name": "stdout",
     "output_type": "stream",
     "text": [
      "Hello prithwiraj Welcome to python world.\n",
      "Hello prithwiraj Welcome to python world.\n"
     ]
    }
   ],
   "source": [
    "def wish(name,msg):\n",
    "  print(\"Hello\",name,msg)\n",
    "wish(\"prithwiraj\",\"Welcome to python world.\") #possitional argument\n",
    "wish(name=\"prithwiraj\", msg=\"Welcome to python world.\") #keyword argument"
   ]
  },
  {
   "cell_type": "markdown",
   "metadata": {},
   "source": [
    "- 1) Here the order of arguments not important but number of argument are important."
   ]
  },
  {
   "cell_type": "markdown",
   "metadata": {},
   "source": [
    "### 3. Default argument"
   ]
  },
  {
   "cell_type": "code",
   "execution_count": 10,
   "metadata": {},
   "outputs": [
    {
     "name": "stdout",
     "output_type": "stream",
     "text": [
      "Hello prithwiraj\n",
      "Hello Guest\n"
     ]
    }
   ],
   "source": [
    "def wish(name=\"Guest\"):\n",
    "  print(\"Hello\",name)\n",
    "wish(\"prithwiraj\")\n",
    "wish()"
   ]
  },
  {
   "cell_type": "markdown",
   "metadata": {},
   "source": [
    "- 1) Some times we can provide default values for our possitional argument\n",
    "- 2) If we are not passing any value then only default value takes."
   ]
  },
  {
   "cell_type": "markdown",
   "metadata": {},
   "source": [
    "### 4. Vriable length argument"
   ]
  },
  {
   "cell_type": "markdown",
   "metadata": {},
   "source": [
    "- Some times we can pass variable number of argument to our function. Such type of arguments called variable length argument.\n",
    "- We can declear a variable length of argumrnt with '*' symbol.\n",
    ">def fun(*n)\n",
    "- We can call this function by passing any number of arguments including 0. Internaly all these values represent in the form of Tuple."
   ]
  },
  {
   "cell_type": "code",
   "execution_count": 1,
   "metadata": {},
   "outputs": [
    {
     "name": "stdout",
     "output_type": "stream",
     "text": [
      "100\n"
     ]
    }
   ],
   "source": [
    "def sum(*kwargs):\n",
    "  result=0\n",
    "  for i in kwargs:\n",
    "    result += i\n",
    "  return result\n",
    "print(sum(10,20,20,50))"
   ]
  },
  {
   "cell_type": "code",
   "execution_count": 1,
   "metadata": {},
   "outputs": [
    {
     "name": "stdout",
     "output_type": "stream",
     "text": [
      "Pithu sum: 100\n"
     ]
    }
   ],
   "source": [
    "def sum(name, *n):\n",
    "  result=0\n",
    "  for i in n:\n",
    "    result+=i\n",
    "  print(name,\"sum:\",result)\n",
    "sum(\"Pithu\",10,20,30,40)"
   ]
  },
  {
   "cell_type": "code",
   "execution_count": 2,
   "metadata": {},
   "outputs": [
    {
     "ename": "SyntaxError",
     "evalue": "positional argument follows keyword argument (489680297.py, line 6)",
     "output_type": "error",
     "traceback": [
      "\u001b[1;36m  Cell \u001b[1;32mIn[2], line 6\u001b[1;36m\u001b[0m\n\u001b[1;33m    sum(name=\"Pithu\",10,20,30,40)\u001b[0m\n\u001b[1;37m                                ^\u001b[0m\n\u001b[1;31mSyntaxError\u001b[0m\u001b[1;31m:\u001b[0m positional argument follows keyword argument\n"
     ]
    }
   ],
   "source": [
    "def sum(name, *n):\n",
    "  result=0\n",
    "  for i in n:\n",
    "    result+=i\n",
    "  print(name,\"sum:\",result)\n",
    "sum(name=\"Pithu\",10,20,30,40)\n",
    "sum(10,20,30,40,name=\"Pithu\")"
   ]
  },
  {
   "cell_type": "markdown",
   "metadata": {},
   "source": [
    "> def display(**kwargs):"
   ]
  },
  {
   "cell_type": "markdown",
   "metadata": {},
   "source": [
    "We can declear keyword variable length argumrnt also for this, you have to use (**)."
   ]
  },
  {
   "cell_type": "markdown",
   "metadata": {},
   "source": [
    "> def fun(**n):"
   ]
  },
  {
   "cell_type": "markdown",
   "metadata": {},
   "source": [
    "We can call this function by passing any number of keyword arguments. Internally this keyword argumrnt will be stored inside a dictionary."
   ]
  },
  {
   "cell_type": "code",
   "execution_count": 3,
   "metadata": {},
   "outputs": [
    {
     "name": "stdout",
     "output_type": "stream",
     "text": [
      "name --> Pithu\n",
      "age --> 21\n"
     ]
    }
   ],
   "source": [
    "def display(**n):\n",
    "  for k,v in n.items():\n",
    "    print(k,\"-->\",v)\n",
    "display(name=\"Pithu\",age=21)"
   ]
  },
  {
   "cell_type": "markdown",
   "metadata": {},
   "source": [
    "# Function v/s Module v/s Package v/s Library"
   ]
  },
  {
   "cell_type": "markdown",
   "metadata": {},
   "source": [
    "- **Function:** A function is a block of code that return the specific task which only runs when it is called.\n",
    "- **Module:** Module is a file containing a set of functions.\n",
    "- **Package:** Package is group of Module.\n",
    "- **Library:** A library is a collection of related packages."
   ]
  },
  {
   "cell_type": "markdown",
   "metadata": {},
   "source": [
    "# Types of variable"
   ]
  },
  {
   "cell_type": "markdown",
   "metadata": {},
   "source": [
    "1) Global variable\n",
    "2) Local variable"
   ]
  },
  {
   "cell_type": "markdown",
   "metadata": {},
   "source": [
    "### 1) Global vriable:"
   ]
  },
  {
   "cell_type": "markdown",
   "metadata": {},
   "source": [
    "The variable are declear outside of the function are called global variable.<br>\n",
    "This variable can be access in all function in at that module."
   ]
  },
  {
   "cell_type": "code",
   "execution_count": 11,
   "metadata": {},
   "outputs": [
    {
     "name": "stdout",
     "output_type": "stream",
     "text": [
      "10\n"
     ]
    }
   ],
   "source": [
    "a=10\n",
    "def f1():\n",
    "  print(a)\n",
    "f1()"
   ]
  },
  {
   "cell_type": "markdown",
   "metadata": {},
   "source": [
    "### 2) Local variable:"
   ]
  },
  {
   "cell_type": "markdown",
   "metadata": {},
   "source": [
    "The variable which are declear inside a function are called local variable.<br>\n",
    "This variable are available for function in declear it. And that is outside of function we can't access. "
   ]
  },
  {
   "cell_type": "code",
   "execution_count": 13,
   "metadata": {},
   "outputs": [
    {
     "ename": "NameError",
     "evalue": "name 'aa' is not defined",
     "output_type": "error",
     "traceback": [
      "\u001b[1;31m---------------------------------------------------------------------------\u001b[0m",
      "\u001b[1;31mNameError\u001b[0m                                 Traceback (most recent call last)",
      "Cell \u001b[1;32mIn[13], line 3\u001b[0m\n\u001b[0;32m      1\u001b[0m \u001b[38;5;28;01mdef\u001b[39;00m \u001b[38;5;21mf1\u001b[39m():\n\u001b[0;32m      2\u001b[0m   aa\u001b[38;5;241m=\u001b[39m\u001b[38;5;241m7\u001b[39m\n\u001b[1;32m----> 3\u001b[0m \u001b[38;5;28mprint\u001b[39m(\u001b[43maa\u001b[49m)\n",
      "\u001b[1;31mNameError\u001b[0m: name 'aa' is not defined"
     ]
    }
   ],
   "source": [
    "def f1():\n",
    "  aa=7\n",
    "print(aa)"
   ]
  },
  {
   "cell_type": "markdown",
   "metadata": {},
   "source": [
    "---"
   ]
  },
  {
   "cell_type": "markdown",
   "metadata": {},
   "source": [
    "# Learn variable scope concept through some progarm"
   ]
  },
  {
   "cell_type": "code",
   "execution_count": 15,
   "metadata": {},
   "outputs": [
    {
     "name": "stdout",
     "output_type": "stream",
     "text": [
      "90\n",
      "10\n"
     ]
    }
   ],
   "source": [
    "a=10\n",
    "def f1():\n",
    "  a=90\n",
    "  print(a)\n",
    "f1()\n",
    "print(a)"
   ]
  },
  {
   "cell_type": "code",
   "execution_count": 16,
   "metadata": {},
   "outputs": [
    {
     "name": "stdout",
     "output_type": "stream",
     "text": [
      "90\n",
      "90\n"
     ]
    }
   ],
   "source": [
    "a=10\n",
    "def f1():\n",
    "  global a\n",
    "  a=90\n",
    "  print(a)\n",
    "f1()\n",
    "print(a)"
   ]
  },
  {
   "cell_type": "code",
   "execution_count": 18,
   "metadata": {},
   "outputs": [
    {
     "ename": "SyntaxError",
     "evalue": "name 'a' is assigned to before global declaration (3762088578.py, line 4)",
     "output_type": "error",
     "traceback": [
      "\u001b[1;36m  Cell \u001b[1;32mIn[18], line 4\u001b[1;36m\u001b[0m\n\u001b[1;33m    global a\u001b[0m\n\u001b[1;37m    ^\u001b[0m\n\u001b[1;31mSyntaxError\u001b[0m\u001b[1;31m:\u001b[0m name 'a' is assigned to before global declaration\n"
     ]
    }
   ],
   "source": [
    "a=10\n",
    "def f1():\n",
    "  a=90\n",
    "  global a\n",
    "  print(a)\n",
    "f1()\n",
    "print(a)"
   ]
  },
  {
   "cell_type": "code",
   "execution_count": 23,
   "metadata": {},
   "outputs": [
    {
     "name": "stdout",
     "output_type": "stream",
     "text": [
      "10\n",
      "90\n",
      "10\n"
     ]
    }
   ],
   "source": [
    "a=10\n",
    "def f1():\n",
    "  a=90\n",
    "  print(globals()[\"a\"])\n",
    "  print(a)\n",
    "f1()\n",
    "print(a)"
   ]
  },
  {
   "cell_type": "code",
   "execution_count": 17,
   "metadata": {},
   "outputs": [
    {
     "name": "stdout",
     "output_type": "stream",
     "text": [
      "90\n"
     ]
    }
   ],
   "source": [
    "def f1():\n",
    "  global a\n",
    "  a=10\n",
    "def f2():\n",
    "  print(a)\n",
    "  \n",
    "f2()"
   ]
  },
  {
   "cell_type": "markdown",
   "metadata": {},
   "source": [
    "---"
   ]
  }
 ],
 "metadata": {
  "kernelspec": {
   "display_name": "Python 3",
   "language": "python",
   "name": "python3"
  },
  "language_info": {
   "codemirror_mode": {
    "name": "ipython",
    "version": 3
   },
   "file_extension": ".py",
   "mimetype": "text/x-python",
   "name": "python",
   "nbconvert_exporter": "python",
   "pygments_lexer": "ipython3",
   "version": "3.11.9"
  }
 },
 "nbformat": 4,
 "nbformat_minor": 2
}
